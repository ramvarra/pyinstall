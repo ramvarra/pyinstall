{
 "cells": [
  {
   "cell_type": "code",
   "execution_count": 1,
   "id": "daafd475",
   "metadata": {},
   "outputs": [
    {
     "name": "stderr",
     "output_type": "stream",
     "text": [
      "/home/somebody/.local/lib/python3.10/site-packages/minizinc/__init__.py:26: RuntimeWarning: MiniZinc was not found on the system. No default driver could be initialised.\n",
      "  warnings.warn(\n"
     ]
    },
    {
     "ename": "ImportError",
     "evalue": "cannot import name 'Instance' from 'minizinc' (/home/somebody/.local/lib/python3.10/site-packages/minizinc/__init__.py)",
     "output_type": "error",
     "traceback": [
      "\u001b[0;31m---------------------------------------------------------------------------\u001b[0m",
      "\u001b[0;31mImportError\u001b[0m                               Traceback (most recent call last)",
      "\u001b[0;32m/tmp/ipykernel_46/3104539391.py\u001b[0m in \u001b[0;36m<module>\u001b[0;34m\u001b[0m\n\u001b[0;32m----> 1\u001b[0;31m \u001b[0;32mfrom\u001b[0m \u001b[0mminizinc\u001b[0m \u001b[0;32mimport\u001b[0m \u001b[0mInstance\u001b[0m\u001b[0;34m,\u001b[0m \u001b[0mModel\u001b[0m\u001b[0;34m,\u001b[0m \u001b[0mSolver\u001b[0m\u001b[0;34m\u001b[0m\u001b[0;34m\u001b[0m\u001b[0m\n\u001b[0m\u001b[1;32m      2\u001b[0m \u001b[0;34m\u001b[0m\u001b[0m\n\u001b[1;32m      3\u001b[0m \u001b[0mgecode\u001b[0m \u001b[0;34m=\u001b[0m \u001b[0mSolver\u001b[0m\u001b[0;34m.\u001b[0m\u001b[0mlookup\u001b[0m\u001b[0;34m(\u001b[0m\u001b[0;34m\"gecode\"\u001b[0m\u001b[0;34m)\u001b[0m\u001b[0;34m\u001b[0m\u001b[0;34m\u001b[0m\u001b[0m\n\u001b[1;32m      4\u001b[0m \u001b[0;34m\u001b[0m\u001b[0m\n\u001b[1;32m      5\u001b[0m \u001b[0mmodel\u001b[0m \u001b[0;34m=\u001b[0m \u001b[0mModel\u001b[0m\u001b[0;34m(\u001b[0m\u001b[0;34m)\u001b[0m\u001b[0;34m\u001b[0m\u001b[0;34m\u001b[0m\u001b[0m\n",
      "\u001b[0;31mImportError\u001b[0m: cannot import name 'Instance' from 'minizinc' (/home/somebody/.local/lib/python3.10/site-packages/minizinc/__init__.py)"
     ]
    }
   ],
   "source": [
    "from minizinc import Instance, Model, Solver\n",
    "\n",
    "gecode = Solver.lookup(\"gecode\")\n",
    "\n",
    "model = Model()\n",
    "model.add_string(\n",
    "    \"\"\"\n",
    "    include \"all_different.mzn\";\n",
    "    set of int: A;\n",
    "    set of int: B;\n",
    "    array[A] of var B: arr;\n",
    "    var set of B: X;\n",
    "    var set of B: Y;\n",
    "\n",
    "    constraint all_different(arr);\n",
    "    constraint forall (i in index_set(arr)) ( arr[i] in X );\n",
    "    constraint forall (i in index_set(arr)) ( (arr[i] mod 2 = 0) <-> arr[i] in Y );\n",
    "    \"\"\"\n",
    ")\n",
    "\n",
    "instance = Instance(gecode, model)\n",
    "instance[\"A\"] = range(3, 8)  # MiniZinc: 3..8\n",
    "instance[\"B\"] = {4, 3, 2, 1, 0}  # MiniZinc: {4, 3, 2, 1, 0}\n",
    "\n",
    "result = instance.solve()\n",
    "print(result[\"X\"])  # range(0, 5)\n",
    "assert isinstance(result[\"X\"], range)\n",
    "print(result[\"Y\"])  # {0, 2, 4}\n",
    "assert isinstance(result[\"Y\"], set)\n"
   ]
  },
  {
   "cell_type": "code",
   "execution_count": 3,
   "id": "b110e301",
   "metadata": {},
   "outputs": [
    {
     "name": "stdout",
     "output_type": "stream",
     "text": [
      "    PID TTY          TIME CMD\n",
      "      7 pts/0    00:00:00 jupyter-noteboo\n"
     ]
    },
    {
     "data": {
      "text/plain": [
       "0"
      ]
     },
     "execution_count": 3,
     "metadata": {},
     "output_type": "execute_result"
    }
   ],
   "source": [
    "os.system('ps -a')"
   ]
  },
  {
   "cell_type": "code",
   "execution_count": null,
   "id": "67065682",
   "metadata": {},
   "outputs": [],
   "source": []
  }
 ],
 "metadata": {
  "kernelspec": {
   "display_name": "Python 3 (ipykernel)",
   "language": "python",
   "name": "python3"
  },
  "language_info": {
   "codemirror_mode": {
    "name": "ipython",
    "version": 3
   },
   "file_extension": ".py",
   "mimetype": "text/x-python",
   "name": "python",
   "nbconvert_exporter": "python",
   "pygments_lexer": "ipython3",
   "version": "3.10.0"
  }
 },
 "nbformat": 4,
 "nbformat_minor": 5
}
